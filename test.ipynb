{
 "cells": [
  {
   "cell_type": "code",
   "execution_count": 74,
   "metadata": {},
   "outputs": [],
   "source": [
    "import pandas as pd\n",
    "import numpy as np\n",
    "\n",
    "from sentence_transformers import SentenceTransformer\n",
    "from sklearn.feature_extraction.text import CountVectorizer\n",
    "\n",
    "from sklearn.metrics.pairwise import cosine_similarity\n",
    "from sklearn.metrics.pairwise import euclidean_distances"
   ]
  },
  {
   "cell_type": "code",
   "execution_count": 8,
   "metadata": {},
   "outputs": [],
   "source": [
    "df=pd.read_csv('data/netflix_titles_raw.csv')"
   ]
  },
  {
   "cell_type": "code",
   "execution_count": 9,
   "metadata": {},
   "outputs": [
    {
     "data": {
      "text/plain": [
       "show_id            0\n",
       "type               0\n",
       "title              0\n",
       "director        2634\n",
       "cast             825\n",
       "country          831\n",
       "date_added        10\n",
       "release_year       0\n",
       "rating             4\n",
       "duration           3\n",
       "listed_in          0\n",
       "description        0\n",
       "dtype: int64"
      ]
     },
     "execution_count": 9,
     "metadata": {},
     "output_type": "execute_result"
    }
   ],
   "source": [
    "df.isna().sum()"
   ]
  },
  {
   "cell_type": "code",
   "execution_count": 10,
   "metadata": {},
   "outputs": [],
   "source": [
    "# drop duration and date_added\n",
    "df.drop(['duration','date_added'], axis=1 ,inplace=True)\n",
    "df['director'] = df['director'].fillna('UnKnown')\n",
    "df['country'] = df['country'].fillna('UnKnown')\n",
    "df['cast'] = df['cast'].fillna('UnKnown')"
   ]
  },
  {
   "cell_type": "code",
   "execution_count": 11,
   "metadata": {},
   "outputs": [
    {
     "data": {
      "text/plain": [
       "show_id         0\n",
       "type            0\n",
       "title           0\n",
       "director        0\n",
       "cast            0\n",
       "country         0\n",
       "release_year    0\n",
       "rating          4\n",
       "listed_in       0\n",
       "description     0\n",
       "dtype: int64"
      ]
     },
     "execution_count": 11,
     "metadata": {},
     "output_type": "execute_result"
    }
   ],
   "source": [
    "df.isna().sum()"
   ]
  },
  {
   "cell_type": "code",
   "execution_count": 57,
   "metadata": {},
   "outputs": [],
   "source": [
    "# drop rating = nan\n",
    "df.dropna(inplace=True)\n",
    "df.to_csv('data/netflix_titles_clean.csv', index=False)"
   ]
  },
  {
   "cell_type": "code",
   "execution_count": 58,
   "metadata": {},
   "outputs": [],
   "source": [
    "df = pd.read_csv('data/netflix_titles_clean.csv')"
   ]
  },
  {
   "cell_type": "code",
   "execution_count": 13,
   "metadata": {},
   "outputs": [],
   "source": [
    "# # cosine similarity\n",
    "# from sklearn.feature_extraction.text import CountVectorizer\n",
    "# from sklearn.metrics.pairwise import cosine_similarity\n",
    "\n",
    "# # count = CountVectorizer(stop_words='english')\n",
    "# # count_matrix = count.fit_transform(df['description'])\n",
    "\n",
    "# # cosine similarity between two paragraphs\n",
    "\n",
    "# pa1 = df.description[3]\n",
    "# pa2 = df.description[1]\n",
    "\n",
    "# count = CountVectorizer(stop_words='english')\n",
    "# count_matrix = count.fit_transform(df['description'])\n",
    "\n",
    "# cosine_similarity(count_matrix,count_matrix)"
   ]
  },
  {
   "cell_type": "code",
   "execution_count": 41,
   "metadata": {},
   "outputs": [],
   "source": [
    "request = [\n",
    "    'A netflix original series',\n",
    "    'Two man in spaceship',\n",
    "    'A movie about a dog that lost his owner',\n",
    "]"
   ]
  },
  {
   "cell_type": "code",
   "execution_count": 55,
   "metadata": {},
   "outputs": [
    {
     "data": {
      "text/plain": [
       "(8803, 768)"
      ]
     },
     "execution_count": 55,
     "metadata": {},
     "output_type": "execute_result"
    }
   ],
   "source": [
    "model_name = 'bert-base-nli-mean-tokens'\n",
    "try:\n",
    "    sentence_embeddings = np.load('data/movie_descriptions.npy')\n",
    "except:\n",
    "    model = SentenceTransformer(model_name)\n",
    "    sentence_embeddings = model.encode(df['description'].values)\n",
    "    np.save('data/movie_descriptions.npy', sentence_embeddings)\n",
    "\n",
    "sentence_embeddings.shape"
   ]
  },
  {
   "cell_type": "code",
   "execution_count": 21,
   "metadata": {},
   "outputs": [],
   "source": [
    "cs=cosine_similarity([sentence_embeddings[0]], sentence_embeddings[1:])"
   ]
  },
  {
   "cell_type": "code",
   "execution_count": 24,
   "metadata": {},
   "outputs": [
    {
     "data": {
      "text/plain": [
       "'As her father nears the end of his life, filmmaker Kirsten Johnson stages his death in inventive and comical ways to help them both face the inevitable.'"
      ]
     },
     "execution_count": 24,
     "metadata": {},
     "output_type": "execute_result"
    }
   ],
   "source": [
    "df.description[0]"
   ]
  },
  {
   "cell_type": "code",
   "execution_count": 26,
   "metadata": {},
   "outputs": [
    {
     "data": {
      "text/plain": [
       "'A deputy curator of a chaebol-funded art gallery and her husband, a politically ambitious economics professor, will do anything to join the über-elite.'"
      ]
     },
     "execution_count": 26,
     "metadata": {},
     "output_type": "execute_result"
    }
   ],
   "source": [
    "# argmax\n",
    "df.description[cs.argmax()]"
   ]
  },
  {
   "cell_type": "code",
   "execution_count": 69,
   "metadata": {},
   "outputs": [],
   "source": [
    "# cosine similarity between request and all descriptions\n",
    "request_embeddings = model.encode(request)\n",
    "\n",
    "cs=cosine_similarity(request_embeddings, sentence_embeddings)"
   ]
  },
  {
   "cell_type": "code",
   "execution_count": 43,
   "metadata": {},
   "outputs": [
    {
     "data": {
      "text/html": [
       "<div>\n",
       "<style scoped>\n",
       "    .dataframe tbody tr th:only-of-type {\n",
       "        vertical-align: middle;\n",
       "    }\n",
       "\n",
       "    .dataframe tbody tr th {\n",
       "        vertical-align: top;\n",
       "    }\n",
       "\n",
       "    .dataframe thead th {\n",
       "        text-align: right;\n",
       "    }\n",
       "</style>\n",
       "<table border=\"1\" class=\"dataframe\">\n",
       "  <thead>\n",
       "    <tr style=\"text-align: right;\">\n",
       "      <th></th>\n",
       "      <th>show_id</th>\n",
       "      <th>type</th>\n",
       "      <th>title</th>\n",
       "      <th>director</th>\n",
       "      <th>cast</th>\n",
       "      <th>country</th>\n",
       "      <th>release_year</th>\n",
       "      <th>rating</th>\n",
       "      <th>listed_in</th>\n",
       "      <th>description</th>\n",
       "    </tr>\n",
       "  </thead>\n",
       "  <tbody>\n",
       "    <tr>\n",
       "      <th>7048</th>\n",
       "      <td>s7049</td>\n",
       "      <td>Movie</td>\n",
       "      <td>I'll See You in My Dreams</td>\n",
       "      <td>Brett Haley</td>\n",
       "      <td>Blythe Danner, Martin Starr, June Squibb, Rhea...</td>\n",
       "      <td>United States</td>\n",
       "      <td>2015</td>\n",
       "      <td>PG-13</td>\n",
       "      <td>Comedies, Dramas, Independent Movies</td>\n",
       "      <td>After the passing of her dog, a long-widowed s...</td>\n",
       "    </tr>\n",
       "    <tr>\n",
       "      <th>8375</th>\n",
       "      <td>s8376</td>\n",
       "      <td>Movie</td>\n",
       "      <td>The Keeping Hours</td>\n",
       "      <td>Karen Moncrieff</td>\n",
       "      <td>Lee Pace, Carrie Coon, Sander Thomas, Amy Smar...</td>\n",
       "      <td>United States</td>\n",
       "      <td>2017</td>\n",
       "      <td>PG-13</td>\n",
       "      <td>Dramas, Thrillers</td>\n",
       "      <td>Years after the death of their only child and ...</td>\n",
       "    </tr>\n",
       "    <tr>\n",
       "      <th>5777</th>\n",
       "      <td>s5778</td>\n",
       "      <td>TV Show</td>\n",
       "      <td>Someone Like You</td>\n",
       "      <td>UnKnown</td>\n",
       "      <td>Kingone Wang, Lorene Ren, Sean Lee, Nita Lei, ...</td>\n",
       "      <td>Taiwan</td>\n",
       "      <td>2015</td>\n",
       "      <td>TV-14</td>\n",
       "      <td>International TV Shows, Romantic TV Shows, TV ...</td>\n",
       "      <td>After losing his sight and his fiancee in an a...</td>\n",
       "    </tr>\n",
       "    <tr>\n",
       "      <th>5073</th>\n",
       "      <td>s5074</td>\n",
       "      <td>Movie</td>\n",
       "      <td>The Open House</td>\n",
       "      <td>Matt Angel, Suzanne Coote</td>\n",
       "      <td>Dylan Minnette, Piercey Dalton, Patricia Bethu...</td>\n",
       "      <td>Canada, United States</td>\n",
       "      <td>2018</td>\n",
       "      <td>TV-MA</td>\n",
       "      <td>Horror Movies, Thrillers</td>\n",
       "      <td>Following a tragedy, a mother and her teen son...</td>\n",
       "    </tr>\n",
       "    <tr>\n",
       "      <th>8552</th>\n",
       "      <td>s8553</td>\n",
       "      <td>Movie</td>\n",
       "      <td>The Water Diviner</td>\n",
       "      <td>Russell Crowe</td>\n",
       "      <td>Russell Crowe, Olga Kurylenko, Yılmaz Erdoğan,...</td>\n",
       "      <td>Australia, United States</td>\n",
       "      <td>2014</td>\n",
       "      <td>R</td>\n",
       "      <td>Dramas, International Movies</td>\n",
       "      <td>Years after the presumed death of his three so...</td>\n",
       "    </tr>\n",
       "    <tr>\n",
       "      <th>2617</th>\n",
       "      <td>s2618</td>\n",
       "      <td>Movie</td>\n",
       "      <td>İstanbul Kırmızısı</td>\n",
       "      <td>Ferzan Özpetek</td>\n",
       "      <td>Halit Ergenç, Nejat İşler, Mehmet Günsür, Çiğd...</td>\n",
       "      <td>Italy, Turkey</td>\n",
       "      <td>2017</td>\n",
       "      <td>TV-MA</td>\n",
       "      <td>Dramas, Independent Movies, International Movies</td>\n",
       "      <td>Upon his return to Istanbul, an expat writer-e...</td>\n",
       "    </tr>\n",
       "    <tr>\n",
       "      <th>1340</th>\n",
       "      <td>s1341</td>\n",
       "      <td>Movie</td>\n",
       "      <td>Little Big Women</td>\n",
       "      <td>Joseph Hsu</td>\n",
       "      <td>Chen Shu-fang, Hsieh Ying-xuan, Vivian Hsu, Su...</td>\n",
       "      <td>Taiwan</td>\n",
       "      <td>2020</td>\n",
       "      <td>TV-14</td>\n",
       "      <td>Dramas, International Movies</td>\n",
       "      <td>A family grapples with the passing of their es...</td>\n",
       "    </tr>\n",
       "    <tr>\n",
       "      <th>4754</th>\n",
       "      <td>s4755</td>\n",
       "      <td>TV Show</td>\n",
       "      <td>Welcome to the Family</td>\n",
       "      <td>UnKnown</td>\n",
       "      <td>Melani Olivares, Ivan Massagué, Yolanda Ramos,...</td>\n",
       "      <td>Spain</td>\n",
       "      <td>2018</td>\n",
       "      <td>TV-MA</td>\n",
       "      <td>International TV Shows, TV Comedies, TV Dramas</td>\n",
       "      <td>When an evicted single mom's estranged father ...</td>\n",
       "    </tr>\n",
       "    <tr>\n",
       "      <th>3529</th>\n",
       "      <td>s3530</td>\n",
       "      <td>Movie</td>\n",
       "      <td>Evelyn</td>\n",
       "      <td>Orlando von Einsiedel</td>\n",
       "      <td>UnKnown</td>\n",
       "      <td>United Kingdom</td>\n",
       "      <td>2019</td>\n",
       "      <td>TV-MA</td>\n",
       "      <td>Documentaries, International Movies</td>\n",
       "      <td>Haunted by the suicide of a brother, a directo...</td>\n",
       "    </tr>\n",
       "    <tr>\n",
       "      <th>1264</th>\n",
       "      <td>s1265</td>\n",
       "      <td>Movie</td>\n",
       "      <td>Our Idiot Brother</td>\n",
       "      <td>Jesse Peretz</td>\n",
       "      <td>Paul Rudd, Elizabeth Banks, Zooey Deschanel, E...</td>\n",
       "      <td>United States</td>\n",
       "      <td>2011</td>\n",
       "      <td>R</td>\n",
       "      <td>Comedies, Dramas, Independent Movies</td>\n",
       "      <td>A seemingly clueless idealist relies on his ex...</td>\n",
       "    </tr>\n",
       "  </tbody>\n",
       "</table>\n",
       "</div>"
      ],
      "text/plain": [
       "     show_id     type                      title                   director   \n",
       "7048   s7049    Movie  I'll See You in My Dreams                Brett Haley  \\\n",
       "8375   s8376    Movie          The Keeping Hours            Karen Moncrieff   \n",
       "5777   s5778  TV Show           Someone Like You                    UnKnown   \n",
       "5073   s5074    Movie             The Open House  Matt Angel, Suzanne Coote   \n",
       "8552   s8553    Movie          The Water Diviner              Russell Crowe   \n",
       "2617   s2618    Movie         İstanbul Kırmızısı             Ferzan Özpetek   \n",
       "1340   s1341    Movie           Little Big Women                 Joseph Hsu   \n",
       "4754   s4755  TV Show      Welcome to the Family                    UnKnown   \n",
       "3529   s3530    Movie                     Evelyn      Orlando von Einsiedel   \n",
       "1264   s1265    Movie          Our Idiot Brother               Jesse Peretz   \n",
       "\n",
       "                                                   cast   \n",
       "7048  Blythe Danner, Martin Starr, June Squibb, Rhea...  \\\n",
       "8375  Lee Pace, Carrie Coon, Sander Thomas, Amy Smar...   \n",
       "5777  Kingone Wang, Lorene Ren, Sean Lee, Nita Lei, ...   \n",
       "5073  Dylan Minnette, Piercey Dalton, Patricia Bethu...   \n",
       "8552  Russell Crowe, Olga Kurylenko, Yılmaz Erdoğan,...   \n",
       "2617  Halit Ergenç, Nejat İşler, Mehmet Günsür, Çiğd...   \n",
       "1340  Chen Shu-fang, Hsieh Ying-xuan, Vivian Hsu, Su...   \n",
       "4754  Melani Olivares, Ivan Massagué, Yolanda Ramos,...   \n",
       "3529                                            UnKnown   \n",
       "1264  Paul Rudd, Elizabeth Banks, Zooey Deschanel, E...   \n",
       "\n",
       "                       country  release_year rating   \n",
       "7048             United States          2015  PG-13  \\\n",
       "8375             United States          2017  PG-13   \n",
       "5777                    Taiwan          2015  TV-14   \n",
       "5073     Canada, United States          2018  TV-MA   \n",
       "8552  Australia, United States          2014      R   \n",
       "2617             Italy, Turkey          2017  TV-MA   \n",
       "1340                    Taiwan          2020  TV-14   \n",
       "4754                     Spain          2018  TV-MA   \n",
       "3529            United Kingdom          2019  TV-MA   \n",
       "1264             United States          2011      R   \n",
       "\n",
       "                                              listed_in   \n",
       "7048               Comedies, Dramas, Independent Movies  \\\n",
       "8375                                  Dramas, Thrillers   \n",
       "5777  International TV Shows, Romantic TV Shows, TV ...   \n",
       "5073                           Horror Movies, Thrillers   \n",
       "8552                       Dramas, International Movies   \n",
       "2617   Dramas, Independent Movies, International Movies   \n",
       "1340                       Dramas, International Movies   \n",
       "4754     International TV Shows, TV Comedies, TV Dramas   \n",
       "3529                Documentaries, International Movies   \n",
       "1264               Comedies, Dramas, Independent Movies   \n",
       "\n",
       "                                            description  \n",
       "7048  After the passing of her dog, a long-widowed s...  \n",
       "8375  Years after the death of their only child and ...  \n",
       "5777  After losing his sight and his fiancee in an a...  \n",
       "5073  Following a tragedy, a mother and her teen son...  \n",
       "8552  Years after the presumed death of his three so...  \n",
       "2617  Upon his return to Istanbul, an expat writer-e...  \n",
       "1340  A family grapples with the passing of their es...  \n",
       "4754  When an evicted single mom's estranged father ...  \n",
       "3529  Haunted by the suicide of a brother, a directo...  \n",
       "1264  A seemingly clueless idealist relies on his ex...  "
      ]
     },
     "execution_count": 43,
     "metadata": {},
     "output_type": "execute_result"
    }
   ],
   "source": [
    "df.iloc[cs[2].argsort()[-10:][::-1]]"
   ]
  },
  {
   "cell_type": "code",
   "execution_count": 70,
   "metadata": {},
   "outputs": [
    {
     "data": {
      "text/plain": [
       "347     After landing on a planet reminiscent of 1950s...\n",
       "5650    In this \"Star Trek\" spin-off, Commander Sisko ...\n",
       "1364    A mysterious game sends two brothers flying in...\n",
       "3187    With humankind's future at stake, a group of s...\n",
       "5244    Capt. Archer and his crew explore space and di...\n",
       "3642    After a massive alien artifact lands on Earth,...\n",
       "981     Carpet dealer and UFO photo forger Arif is abd...\n",
       "2662    Traversing trippy worlds inside his universe s...\n",
       "7614    With access to the scientists and engineers re...\n",
       "7406    Fact meets fiction in this docudrama chronicli...\n",
       "Name: description, dtype: object"
      ]
     },
     "execution_count": 70,
     "metadata": {},
     "output_type": "execute_result"
    }
   ],
   "source": [
    "df.description[cs[1].argsort()[-10:][::-1]]"
   ]
  },
  {
   "cell_type": "code",
   "execution_count": 72,
   "metadata": {},
   "outputs": [
    {
     "data": {
      "text/plain": [
       "641     Three track star sisters face obstacles in lif...\n",
       "8562    A widow searches for her missing teenage daugh...\n",
       "2688    Two fierce mothers become rivals when a school...\n",
       "6942    This documentary tells the story of a teenage ...\n",
       "2714    A lonely young woman feels trapped at her all ...\n",
       "3845    Two female friends, each with confidence issue...\n",
       "654     Two days before their final exams, three teen ...\n",
       "2705    Implicated in her daughter's disappearance, a ...\n",
       "8126    A socially awkward Catholic schoolgirl vows to...\n",
       "8334    A troubled teenage girl hopes to start fresh a...\n",
       "Name: description, dtype: object"
      ]
     },
     "execution_count": 72,
     "metadata": {},
     "output_type": "execute_result"
    }
   ],
   "source": [
    "# euclidean distance\n",
    "\n",
    "ed=euclidean_distances(request_embeddings, sentence_embeddings)\n",
    "df.description[ed[1].argsort()[-10:][::-1]]"
   ]
  },
  {
   "cell_type": "code",
   "execution_count": 75,
   "metadata": {},
   "outputs": [],
   "source": [
    "# count vectorizer\n",
    "count = CountVectorizer(stop_words='english')\n",
    "count_matrix = count.fit_transform(df['description'])"
   ]
  },
  {
   "cell_type": "code",
   "execution_count": 79,
   "metadata": {},
   "outputs": [
    {
     "data": {
      "text/plain": [
       "7398    An Indian business owner struggles to keep his...\n",
       "7001    Two teenage geeks inadvertently find a lifelik...\n",
       "829     The privileged life of a pampered dog named Tr...\n",
       "2022    Julie lost her passion for music when she lost...\n",
       "2892    To survive in a dog-eat-dog world, two rival l...\n",
       "1765    Lazy, lasagna-loving fat cat Garfield lives li...\n",
       "1274    No dog, no breed, no behavior is unfixable for...\n",
       "94      A rough and tough police dog must go undercove...\n",
       "4845    It's the Emmy-winning story of a wealthy famil...\n",
       "247     He lost the love of his life to a pharmaceutic...\n",
       "Name: description, dtype: object"
      ]
     },
     "execution_count": 79,
     "metadata": {},
     "output_type": "execute_result"
    }
   ],
   "source": [
    "# cosine similarity\n",
    "request_embeddings = count.transform(request)\n",
    "cs=cosine_similarity(request_embeddings, count_matrix)\n",
    "\n",
    "df.description[cs[2].argsort()[-10:][::-1]]"
   ]
  },
  {
   "cell_type": "code",
   "execution_count": 80,
   "metadata": {},
   "outputs": [
    {
     "data": {
      "text/plain": [
       "7674    Leader of the Ten Kwangtung Tigers, Tieh Chiao...\n",
       "7934    Raised in working-class Mumbai, Manisha has an...\n",
       "7094    A record-setting triathlete dares to complete ...\n",
       "7312    Jake and Tony become friends when Jake's dad i...\n",
       "8181    In the City Without a Voice, only faceless sin...\n",
       "4797    To her Indian parents' dismay, London-born Jas...\n",
       "8138    Shaolin warrior Tung Chien-chen is injured in ...\n",
       "5749    When a group of vicious Sinners plots to escap...\n",
       "593     When a snow day shuts down the whole town, the...\n",
       "215     Based on a true story, this action film follow...\n",
       "Name: description, dtype: object"
      ]
     },
     "execution_count": 80,
     "metadata": {},
     "output_type": "execute_result"
    }
   ],
   "source": [
    "ed=euclidean_distances(request_embeddings, count_matrix)\n",
    "\n",
    "df.description[ed[2].argsort()[-10:][::-1]]"
   ]
  }
 ],
 "metadata": {
  "kernelspec": {
   "display_name": "min_ds-env",
   "language": "python",
   "name": "python3"
  },
  "language_info": {
   "codemirror_mode": {
    "name": "ipython",
    "version": 3
   },
   "file_extension": ".py",
   "mimetype": "text/x-python",
   "name": "python",
   "nbconvert_exporter": "python",
   "pygments_lexer": "ipython3",
   "version": "3.11.3"
  },
  "orig_nbformat": 4
 },
 "nbformat": 4,
 "nbformat_minor": 2
}
