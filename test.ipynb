{
 "cells": [
  {
   "cell_type": "code",
   "execution_count": 1,
   "metadata": {},
   "outputs": [
    {
     "name": "stderr",
     "output_type": "stream",
     "text": [
      "/home/nthngquan/miniconda3/envs/min_ds-env/lib/python3.11/site-packages/tqdm/auto.py:21: TqdmWarning: IProgress not found. Please update jupyter and ipywidgets. See https://ipywidgets.readthedocs.io/en/stable/user_install.html\n",
      "  from .autonotebook import tqdm as notebook_tqdm\n"
     ]
    },
    {
     "data": {
      "text/plain": [
       "'cuda'"
      ]
     },
     "execution_count": 1,
     "metadata": {},
     "output_type": "execute_result"
    }
   ],
   "source": [
    "import pandas as pd\n",
    "import numpy as np\n",
    "\n",
    "from sentence_transformers import SentenceTransformer\n",
    "from sklearn.feature_extraction.text import CountVectorizer\n",
    "\n",
    "from sklearn.metrics.pairwise import cosine_similarity\n",
    "from sklearn.metrics.pairwise import euclidean_distances\n",
    "\n",
    "import torch\n",
    "device_ = \"cuda\" if torch.cuda.is_available() else \"cpu\"\n",
    "device_"
   ]
  },
  {
   "cell_type": "code",
   "execution_count": 2,
   "metadata": {},
   "outputs": [],
   "source": [
    "df=pd.read_csv('data/netflix_titles_raw.csv')"
   ]
  },
  {
   "cell_type": "code",
   "execution_count": 3,
   "metadata": {},
   "outputs": [
    {
     "data": {
      "text/plain": [
       "show_id            0\n",
       "type               0\n",
       "title              0\n",
       "director        2634\n",
       "cast             825\n",
       "country          831\n",
       "date_added        10\n",
       "release_year       0\n",
       "rating             4\n",
       "duration           3\n",
       "listed_in          0\n",
       "description        0\n",
       "dtype: int64"
      ]
     },
     "execution_count": 3,
     "metadata": {},
     "output_type": "execute_result"
    }
   ],
   "source": [
    "df.isna().sum()"
   ]
  },
  {
   "cell_type": "code",
   "execution_count": 4,
   "metadata": {},
   "outputs": [],
   "source": [
    "# drop duration and date_added\n",
    "df.drop(['duration','date_added'], axis=1 ,inplace=True)\n",
    "df['director'] = df['director'].fillna('UnKnown')\n",
    "df['country'] = df['country'].fillna('UnKnown')\n",
    "df['cast'] = df['cast'].fillna('UnKnown')"
   ]
  },
  {
   "cell_type": "code",
   "execution_count": 5,
   "metadata": {},
   "outputs": [
    {
     "data": {
      "text/plain": [
       "show_id         0\n",
       "type            0\n",
       "title           0\n",
       "director        0\n",
       "cast            0\n",
       "country         0\n",
       "release_year    0\n",
       "rating          4\n",
       "listed_in       0\n",
       "description     0\n",
       "dtype: int64"
      ]
     },
     "execution_count": 5,
     "metadata": {},
     "output_type": "execute_result"
    }
   ],
   "source": [
    "df.isna().sum()"
   ]
  },
  {
   "cell_type": "code",
   "execution_count": 6,
   "metadata": {},
   "outputs": [],
   "source": [
    "# drop rating = nan\n",
    "df.dropna(inplace=True)\n",
    "df.to_csv('data/netflix_titles_clean.csv', index=False)"
   ]
  },
  {
   "cell_type": "code",
   "execution_count": 7,
   "metadata": {},
   "outputs": [],
   "source": [
    "df = pd.read_csv('data/netflix_titles_clean.csv')"
   ]
  },
  {
   "cell_type": "code",
   "execution_count": 9,
   "metadata": {},
   "outputs": [],
   "source": [
    "request = [\n",
    "    'A netflix original series',\n",
    "    'Two man in spaceship',\n",
    "    'A movie about a dog that lost his owner',\n",
    "]"
   ]
  },
  {
   "cell_type": "code",
   "execution_count": 47,
   "metadata": {},
   "outputs": [
    {
     "data": {
      "text/plain": [
       "(8803, 384)"
      ]
     },
     "execution_count": 47,
     "metadata": {},
     "output_type": "execute_result"
    }
   ],
   "source": [
    "# model_name = 'bert-base-nli-mean-tokens'\n",
    "model_name = 'all-MiniLM-L6-v2'\n",
    "model = SentenceTransformer(model_name, device=device_)\n",
    "try:\n",
    "    sentence_embeddings = np.load(f'data/movie_descriptions_{model_name}.npy')\n",
    "except:\n",
    "    sentence_embeddings = model.encode(df['description'].values)\n",
    "    np.save(f'data/movie_descriptions{model_name}.npy', sentence_embeddings)\n",
    "\n",
    "sentence_embeddings.shape"
   ]
  },
  {
   "cell_type": "code",
   "execution_count": 15,
   "metadata": {},
   "outputs": [],
   "source": [
    "cs=cosine_similarity([sentence_embeddings[0]], sentence_embeddings[1:])"
   ]
  },
  {
   "cell_type": "code",
   "execution_count": 16,
   "metadata": {},
   "outputs": [
    {
     "data": {
      "text/plain": [
       "'As her father nears the end of his life, filmmaker Kirsten Johnson stages his death in inventive and comical ways to help them both face the inevitable.'"
      ]
     },
     "execution_count": 16,
     "metadata": {},
     "output_type": "execute_result"
    }
   ],
   "source": [
    "df.description[0]"
   ]
  },
  {
   "cell_type": "code",
   "execution_count": 17,
   "metadata": {},
   "outputs": [
    {
     "data": {
      "text/plain": [
       "'Four best friends navigate loss and major life changes – and smoke a lot of weed – during their last two weeks of high school.'"
      ]
     },
     "execution_count": 17,
     "metadata": {},
     "output_type": "execute_result"
    }
   ],
   "source": [
    "# argmax\n",
    "df.description[cs.argmax()]"
   ]
  },
  {
   "cell_type": "code",
   "execution_count": 30,
   "metadata": {},
   "outputs": [],
   "source": [
    "# cosine similarity between request and all descriptions\n",
    "request_embeddings = model.encode(request)\n",
    "\n",
    "cs=cosine_similarity(request_embeddings, sentence_embeddings)"
   ]
  },
  {
   "cell_type": "code",
   "execution_count": 21,
   "metadata": {},
   "outputs": [
    {
     "data": {
      "text/html": [
       "<div>\n",
       "<style scoped>\n",
       "    .dataframe tbody tr th:only-of-type {\n",
       "        vertical-align: middle;\n",
       "    }\n",
       "\n",
       "    .dataframe tbody tr th {\n",
       "        vertical-align: top;\n",
       "    }\n",
       "\n",
       "    .dataframe thead th {\n",
       "        text-align: right;\n",
       "    }\n",
       "</style>\n",
       "<table border=\"1\" class=\"dataframe\">\n",
       "  <thead>\n",
       "    <tr style=\"text-align: right;\">\n",
       "      <th></th>\n",
       "      <th>show_id</th>\n",
       "      <th>type</th>\n",
       "      <th>title</th>\n",
       "      <th>director</th>\n",
       "      <th>cast</th>\n",
       "      <th>country</th>\n",
       "      <th>release_year</th>\n",
       "      <th>rating</th>\n",
       "      <th>listed_in</th>\n",
       "      <th>description</th>\n",
       "    </tr>\n",
       "  </thead>\n",
       "  <tbody>\n",
       "    <tr>\n",
       "      <th>1089</th>\n",
       "      <td>s1090</td>\n",
       "      <td>Movie</td>\n",
       "      <td>Two Distant Strangers</td>\n",
       "      <td>Travon Free, Martin Desmond Roe</td>\n",
       "      <td>Joey Bada$$, Andrew Howard, Zaria</td>\n",
       "      <td>United States</td>\n",
       "      <td>2021</td>\n",
       "      <td>TV-MA</td>\n",
       "      <td>Dramas</td>\n",
       "      <td>In this Oscar-nominated short film, a man tryi...</td>\n",
       "    </tr>\n",
       "    <tr>\n",
       "      <th>6353</th>\n",
       "      <td>s6355</td>\n",
       "      <td>Movie</td>\n",
       "      <td>Bolt</td>\n",
       "      <td>Byron Howard, Chris Williams</td>\n",
       "      <td>John Travolta, Miley Cyrus, Susie Essman, Mark...</td>\n",
       "      <td>United States</td>\n",
       "      <td>2008</td>\n",
       "      <td>PG</td>\n",
       "      <td>Children &amp; Family Movies, Comedies</td>\n",
       "      <td>This tale follows German shepherd Bolt, a cani...</td>\n",
       "    </tr>\n",
       "    <tr>\n",
       "      <th>4977</th>\n",
       "      <td>s4978</td>\n",
       "      <td>Movie</td>\n",
       "      <td>Benji</td>\n",
       "      <td>Brandon Camp</td>\n",
       "      <td>Gabriel Bateman, Darby Camp, Kiele Sanchez, Je...</td>\n",
       "      <td>United Arab Emirates, United States</td>\n",
       "      <td>2018</td>\n",
       "      <td>TV-PG</td>\n",
       "      <td>Children &amp; Family Movies, Dramas</td>\n",
       "      <td>A determined dog comes to the rescue and helps...</td>\n",
       "    </tr>\n",
       "    <tr>\n",
       "      <th>829</th>\n",
       "      <td>s830</td>\n",
       "      <td>Movie</td>\n",
       "      <td>Dog Gone Trouble</td>\n",
       "      <td>Kevin Johnson</td>\n",
       "      <td>Big Sean, Pamela Adlon, Lucy Hale, Marissa Jar...</td>\n",
       "      <td>UnKnown</td>\n",
       "      <td>2021</td>\n",
       "      <td>TV-Y7</td>\n",
       "      <td>Children &amp; Family Movies, Comedies</td>\n",
       "      <td>The privileged life of a pampered dog named Tr...</td>\n",
       "    </tr>\n",
       "    <tr>\n",
       "      <th>1319</th>\n",
       "      <td>s1320</td>\n",
       "      <td>Movie</td>\n",
       "      <td>Xico's Journey</td>\n",
       "      <td>Eric D. Cabello Díaz</td>\n",
       "      <td>Verónica Alva, Pablo Gama Iturrarán “Mago Gami...</td>\n",
       "      <td>Mexico</td>\n",
       "      <td>2021</td>\n",
       "      <td>TV-Y7</td>\n",
       "      <td>Children &amp; Family Movies</td>\n",
       "      <td>A girl, a dog and her best pal set out to save...</td>\n",
       "    </tr>\n",
       "    <tr>\n",
       "      <th>1372</th>\n",
       "      <td>s1373</td>\n",
       "      <td>Movie</td>\n",
       "      <td>June &amp; Kopi</td>\n",
       "      <td>Noviandra Santosa</td>\n",
       "      <td>Acha Septriasa, Ryan Delon, Makayla Rose Hilli...</td>\n",
       "      <td>Indonesia</td>\n",
       "      <td>2021</td>\n",
       "      <td>TV-PG</td>\n",
       "      <td>Children &amp; Family Movies, Dramas, Internationa...</td>\n",
       "      <td>A street dog is taken in by a young couple, an...</td>\n",
       "    </tr>\n",
       "    <tr>\n",
       "      <th>3405</th>\n",
       "      <td>s3406</td>\n",
       "      <td>Movie</td>\n",
       "      <td>Seventeen</td>\n",
       "      <td>Daniel Sánchez Arévalo</td>\n",
       "      <td>Biel Montoro, Nacho Sánchez, Lola Cordón, Itsa...</td>\n",
       "      <td>Spain</td>\n",
       "      <td>2019</td>\n",
       "      <td>TV-MA</td>\n",
       "      <td>Comedies, Dramas, International Movies</td>\n",
       "      <td>To find his therapy dog, a 17-year-old escapes...</td>\n",
       "    </tr>\n",
       "    <tr>\n",
       "      <th>325</th>\n",
       "      <td>s326</td>\n",
       "      <td>Movie</td>\n",
       "      <td>Beethoven</td>\n",
       "      <td>Brian Levant</td>\n",
       "      <td>Charles Grodin, Bonnie Hunt, Dean Jones, Olive...</td>\n",
       "      <td>United States</td>\n",
       "      <td>1992</td>\n",
       "      <td>PG</td>\n",
       "      <td>Children &amp; Family Movies, Comedies</td>\n",
       "      <td>A father reluctantly agrees to let his childre...</td>\n",
       "    </tr>\n",
       "    <tr>\n",
       "      <th>2056</th>\n",
       "      <td>s2057</td>\n",
       "      <td>Movie</td>\n",
       "      <td>Hotel for Dogs</td>\n",
       "      <td>Thor Freudenthal</td>\n",
       "      <td>Emma Roberts, Jake T. Austin, Kyla Pratt, Lisa...</td>\n",
       "      <td>Germany, United States</td>\n",
       "      <td>2009</td>\n",
       "      <td>PG</td>\n",
       "      <td>Children &amp; Family Movies, Comedies</td>\n",
       "      <td>Placed in a foster home that doesn't allow pet...</td>\n",
       "    </tr>\n",
       "    <tr>\n",
       "      <th>7297</th>\n",
       "      <td>s7300</td>\n",
       "      <td>Movie</td>\n",
       "      <td>Life in the Doghouse</td>\n",
       "      <td>Ron Davis</td>\n",
       "      <td>UnKnown</td>\n",
       "      <td>United States</td>\n",
       "      <td>2018</td>\n",
       "      <td>TV-PG</td>\n",
       "      <td>Documentaries, LGBTQ Movies</td>\n",
       "      <td>A couple operates a bustling dog rescue out of...</td>\n",
       "    </tr>\n",
       "  </tbody>\n",
       "</table>\n",
       "</div>"
      ],
      "text/plain": [
       "     show_id   type                  title                         director   \n",
       "1089   s1090  Movie  Two Distant Strangers  Travon Free, Martin Desmond Roe  \\\n",
       "6353   s6355  Movie                   Bolt     Byron Howard, Chris Williams   \n",
       "4977   s4978  Movie                  Benji                     Brandon Camp   \n",
       "829     s830  Movie       Dog Gone Trouble                    Kevin Johnson   \n",
       "1319   s1320  Movie         Xico's Journey             Eric D. Cabello Díaz   \n",
       "1372   s1373  Movie            June & Kopi                Noviandra Santosa   \n",
       "3405   s3406  Movie              Seventeen           Daniel Sánchez Arévalo   \n",
       "325     s326  Movie              Beethoven                     Brian Levant   \n",
       "2056   s2057  Movie         Hotel for Dogs                 Thor Freudenthal   \n",
       "7297   s7300  Movie   Life in the Doghouse                        Ron Davis   \n",
       "\n",
       "                                                   cast   \n",
       "1089                  Joey Bada$$, Andrew Howard, Zaria  \\\n",
       "6353  John Travolta, Miley Cyrus, Susie Essman, Mark...   \n",
       "4977  Gabriel Bateman, Darby Camp, Kiele Sanchez, Je...   \n",
       "829   Big Sean, Pamela Adlon, Lucy Hale, Marissa Jar...   \n",
       "1319  Verónica Alva, Pablo Gama Iturrarán “Mago Gami...   \n",
       "1372  Acha Septriasa, Ryan Delon, Makayla Rose Hilli...   \n",
       "3405  Biel Montoro, Nacho Sánchez, Lola Cordón, Itsa...   \n",
       "325   Charles Grodin, Bonnie Hunt, Dean Jones, Olive...   \n",
       "2056  Emma Roberts, Jake T. Austin, Kyla Pratt, Lisa...   \n",
       "7297                                            UnKnown   \n",
       "\n",
       "                                  country  release_year rating   \n",
       "1089                        United States          2021  TV-MA  \\\n",
       "6353                        United States          2008     PG   \n",
       "4977  United Arab Emirates, United States          2018  TV-PG   \n",
       "829                               UnKnown          2021  TV-Y7   \n",
       "1319                               Mexico          2021  TV-Y7   \n",
       "1372                            Indonesia          2021  TV-PG   \n",
       "3405                                Spain          2019  TV-MA   \n",
       "325                         United States          1992     PG   \n",
       "2056               Germany, United States          2009     PG   \n",
       "7297                        United States          2018  TV-PG   \n",
       "\n",
       "                                              listed_in   \n",
       "1089                                             Dramas  \\\n",
       "6353                 Children & Family Movies, Comedies   \n",
       "4977                   Children & Family Movies, Dramas   \n",
       "829                  Children & Family Movies, Comedies   \n",
       "1319                           Children & Family Movies   \n",
       "1372  Children & Family Movies, Dramas, Internationa...   \n",
       "3405             Comedies, Dramas, International Movies   \n",
       "325                  Children & Family Movies, Comedies   \n",
       "2056                 Children & Family Movies, Comedies   \n",
       "7297                        Documentaries, LGBTQ Movies   \n",
       "\n",
       "                                            description  \n",
       "1089  In this Oscar-nominated short film, a man tryi...  \n",
       "6353  This tale follows German shepherd Bolt, a cani...  \n",
       "4977  A determined dog comes to the rescue and helps...  \n",
       "829   The privileged life of a pampered dog named Tr...  \n",
       "1319  A girl, a dog and her best pal set out to save...  \n",
       "1372  A street dog is taken in by a young couple, an...  \n",
       "3405  To find his therapy dog, a 17-year-old escapes...  \n",
       "325   A father reluctantly agrees to let his childre...  \n",
       "2056  Placed in a foster home that doesn't allow pet...  \n",
       "7297  A couple operates a bustling dog rescue out of...  "
      ]
     },
     "execution_count": 21,
     "metadata": {},
     "output_type": "execute_result"
    }
   ],
   "source": [
    "df.iloc[cs[2].argsort()[-10:][::-1]]"
   ]
  },
  {
   "cell_type": "code",
   "execution_count": 27,
   "metadata": {},
   "outputs": [
    {
     "data": {
      "text/plain": [
       "array(['Liam Neeson stars as a man who regains consciousness after a car accident, only to discover that another man is impersonating him.',\n",
       "       \"A doctor performs plastic surgery on a fat man who's been jilted, and continues his transformation by turning him into a handsome, desirable man.\",\n",
       "       'Fearing rejection, a young man struggles to declare his feelings for his best friend, who soon falls for another man — until a fateful incident.',\n",
       "       'Jilted by his wife, a man with OCD finds eye-opening common ground and camaraderie with his neighbor, a young man with Down Syndrome.',\n",
       "       \"When a late poet leaves behind his property to a young man, the man's brother suspects the poet may have been more than just a family friend.\",\n",
       "       \"A gay man deals with his sexuality, a struggling actor has an epiphany, a boy becomes a dancer, and a man tries to fulfill his father's dying wish.\",\n",
       "       'A Punjabi man attempts to build a life in London in hopes of impressing his girlfriend’s mother, who insists her daughter marry a man outside of India.',\n",
       "       \"A man suffering from amnesia can't seem to choose between the women playing tricks on him.\",\n",
       "       'A down-on-his-luck man reads a book, only to have its characters materialize and take over his life.',\n",
       "       \"A down-on-his-luck man must prove he's not as hapless as he seems when the woman he's on a date with is suddenly kidnapped.\"],\n",
       "      dtype=object)"
      ]
     },
     "execution_count": 27,
     "metadata": {},
     "output_type": "execute_result"
    }
   ],
   "source": [
    "df.description[cs[1].argsort()[-10:][::-1]]"
   ]
  },
  {
   "cell_type": "code",
   "execution_count": 32,
   "metadata": {},
   "outputs": [
    {
     "data": {
      "text/plain": [
       "7064    In the streets of Senegal, a youth movement ri...\n",
       "1371    A Brooklyn youth football program and its self...\n",
       "7649    Seeking to heal after a traumatic assault, a y...\n",
       "550     After a series of brutal slayings, a teen and ...\n",
       "511     It's not her first talk show, but it is a firs...\n",
       "6933    Fast-talking city girl Zoe Hart winds up patch...\n",
       "459     After a traumatic year, all an Indian-American...\n",
       "6899    On the surface, the Social Welfare Agency appe...\n",
       "1964    The five rival gangs ruling the SWORD district...\n",
       "1241    Inspired by her mom's rebellious past and a co...\n",
       "Name: description, dtype: object"
      ]
     },
     "execution_count": 32,
     "metadata": {},
     "output_type": "execute_result"
    }
   ],
   "source": [
    "# euclidean distance\n",
    "\n",
    "ed=euclidean_distances(request_embeddings, sentence_embeddings)\n",
    "df.description[ed[1].argsort()[-10:][::-1]]"
   ]
  },
  {
   "cell_type": "code",
   "execution_count": 24,
   "metadata": {},
   "outputs": [],
   "source": [
    "# count vectorizer\n",
    "count = CountVectorizer(stop_words='english')\n",
    "count_matrix = count.fit_transform(df['description'])"
   ]
  },
  {
   "cell_type": "code",
   "execution_count": 53,
   "metadata": {},
   "outputs": [
    {
     "ename": "ValueError",
     "evalue": "Iterable over raw text documents expected, string object received.",
     "output_type": "error",
     "traceback": [
      "\u001b[0;31m---------------------------------------------------------------------------\u001b[0m",
      "\u001b[0;31mValueError\u001b[0m                                Traceback (most recent call last)",
      "Cell \u001b[0;32mIn[53], line 2\u001b[0m\n\u001b[1;32m      1\u001b[0m \u001b[39m# cosine similarity\u001b[39;00m\n\u001b[0;32m----> 2\u001b[0m request_embeddings \u001b[39m=\u001b[39m count\u001b[39m.\u001b[39;49mtransform(\u001b[39m'\u001b[39;49m\u001b[39mspace\u001b[39;49m\u001b[39m'\u001b[39;49m)\n\u001b[1;32m      3\u001b[0m cs\u001b[39m=\u001b[39mcosine_similarity(request_embeddings, count_matrix)\n\u001b[1;32m      5\u001b[0m df\u001b[39m.\u001b[39mdescription[cs[\u001b[39m0\u001b[39m]\u001b[39m.\u001b[39margsort()[\u001b[39m-\u001b[39m\u001b[39m10\u001b[39m:][::\u001b[39m-\u001b[39m\u001b[39m1\u001b[39m]]\n",
      "File \u001b[0;32m~/miniconda3/envs/min_ds-env/lib/python3.11/site-packages/sklearn/feature_extraction/text.py:1427\u001b[0m, in \u001b[0;36mCountVectorizer.transform\u001b[0;34m(self, raw_documents)\u001b[0m\n\u001b[1;32m   1411\u001b[0m \u001b[39m\u001b[39m\u001b[39m\"\"\"Transform documents to document-term matrix.\u001b[39;00m\n\u001b[1;32m   1412\u001b[0m \n\u001b[1;32m   1413\u001b[0m \u001b[39mExtract token counts out of raw text documents using the vocabulary\u001b[39;00m\n\u001b[0;32m   (...)\u001b[0m\n\u001b[1;32m   1424\u001b[0m \u001b[39m    Document-term matrix.\u001b[39;00m\n\u001b[1;32m   1425\u001b[0m \u001b[39m\"\"\"\u001b[39;00m\n\u001b[1;32m   1426\u001b[0m \u001b[39mif\u001b[39;00m \u001b[39misinstance\u001b[39m(raw_documents, \u001b[39mstr\u001b[39m):\n\u001b[0;32m-> 1427\u001b[0m     \u001b[39mraise\u001b[39;00m \u001b[39mValueError\u001b[39;00m(\n\u001b[1;32m   1428\u001b[0m         \u001b[39m\"\u001b[39m\u001b[39mIterable over raw text documents expected, string object received.\u001b[39m\u001b[39m\"\u001b[39m\n\u001b[1;32m   1429\u001b[0m     )\n\u001b[1;32m   1430\u001b[0m \u001b[39mself\u001b[39m\u001b[39m.\u001b[39m_check_vocabulary()\n\u001b[1;32m   1432\u001b[0m \u001b[39m# use the same matrix-building strategy as fit_transform\u001b[39;00m\n",
      "\u001b[0;31mValueError\u001b[0m: Iterable over raw text documents expected, string object received."
     ]
    }
   ],
   "source": [
    "# cosine similarity\n",
    "request_embeddings = count.transform('space')\n",
    "cs=cosine_similarity(request_embeddings, count_matrix)\n",
    "\n",
    "df.description[cs[0].argsort()[-10:][::-1]]"
   ]
  },
  {
   "cell_type": "code",
   "execution_count": 26,
   "metadata": {},
   "outputs": [
    {
     "data": {
      "text/plain": [
       "7674    Leader of the Ten Kwangtung Tigers, Tieh Chiao...\n",
       "7934    Raised in working-class Mumbai, Manisha has an...\n",
       "7094    A record-setting triathlete dares to complete ...\n",
       "7312    Jake and Tony become friends when Jake's dad i...\n",
       "8181    In the City Without a Voice, only faceless sin...\n",
       "4797    To her Indian parents' dismay, London-born Jas...\n",
       "8138    Shaolin warrior Tung Chien-chen is injured in ...\n",
       "5749    When a group of vicious Sinners plots to escap...\n",
       "593     When a snow day shuts down the whole town, the...\n",
       "215     Based on a true story, this action film follow...\n",
       "Name: description, dtype: object"
      ]
     },
     "execution_count": 26,
     "metadata": {},
     "output_type": "execute_result"
    }
   ],
   "source": [
    "ed=euclidean_distances(request_embeddings, count_matrix)\n",
    "\n",
    "df.description[ed[2].argsort()[-10:][::-1]]"
   ]
  }
 ],
 "metadata": {
  "kernelspec": {
   "display_name": "min_ds-env",
   "language": "python",
   "name": "python3"
  },
  "language_info": {
   "codemirror_mode": {
    "name": "ipython",
    "version": 3
   },
   "file_extension": ".py",
   "mimetype": "text/x-python",
   "name": "python",
   "nbconvert_exporter": "python",
   "pygments_lexer": "ipython3",
   "version": "3.11.3"
  },
  "orig_nbformat": 4
 },
 "nbformat": 4,
 "nbformat_minor": 2
}
